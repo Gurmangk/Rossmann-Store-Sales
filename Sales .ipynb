{
 "cells": [
  {
   "cell_type": "code",
   "execution_count": 2,
   "metadata": {},
   "outputs": [],
   "source": [
    "import pandas as pd\n",
    "import numpy as np\n",
    "import matplotlib.pyplot as plt"
   ]
  },
  {
   "cell_type": "code",
   "execution_count": 3,
   "metadata": {},
   "outputs": [
    {
     "name": "stderr",
     "output_type": "stream",
     "text": [
      "C:\\Users\\HP RYZEN 3\\Anaconda3\\lib\\site-packages\\IPython\\core\\interactiveshell.py:3058: DtypeWarning: Columns (7) have mixed types. Specify dtype option on import or set low_memory=False.\n",
      "  interactivity=interactivity, compiler=compiler, result=result)\n"
     ]
    }
   ],
   "source": [
    "store = pd.read_csv('store.csv')\n",
    "train = pd.read_csv('salestrain.csv')\n",
    "test = pd.read_csv('salestest.csv')"
   ]
  },
  {
   "cell_type": "code",
   "execution_count": 60,
   "metadata": {},
   "outputs": [
    {
     "data": {
      "text/html": [
       "<div>\n",
       "<style scoped>\n",
       "    .dataframe tbody tr th:only-of-type {\n",
       "        vertical-align: middle;\n",
       "    }\n",
       "\n",
       "    .dataframe tbody tr th {\n",
       "        vertical-align: top;\n",
       "    }\n",
       "\n",
       "    .dataframe thead th {\n",
       "        text-align: right;\n",
       "    }\n",
       "</style>\n",
       "<table border=\"1\" class=\"dataframe\">\n",
       "  <thead>\n",
       "    <tr style=\"text-align: right;\">\n",
       "      <th></th>\n",
       "      <th>Store</th>\n",
       "      <th>StoreType</th>\n",
       "      <th>Assortment</th>\n",
       "      <th>CompetitionDistance</th>\n",
       "      <th>CompetitionOpenSinceMonth</th>\n",
       "      <th>CompetitionOpenSinceYear</th>\n",
       "      <th>Promo2</th>\n",
       "      <th>Promo2SinceWeek</th>\n",
       "      <th>Promo2SinceYear</th>\n",
       "      <th>PromoInterval</th>\n",
       "    </tr>\n",
       "  </thead>\n",
       "  <tbody>\n",
       "    <tr>\n",
       "      <td>0</td>\n",
       "      <td>1</td>\n",
       "      <td>c</td>\n",
       "      <td>a</td>\n",
       "      <td>1270</td>\n",
       "      <td>9</td>\n",
       "      <td>2008</td>\n",
       "      <td>0</td>\n",
       "      <td>0</td>\n",
       "      <td>0</td>\n",
       "      <td>0</td>\n",
       "    </tr>\n",
       "    <tr>\n",
       "      <td>1</td>\n",
       "      <td>2</td>\n",
       "      <td>a</td>\n",
       "      <td>a</td>\n",
       "      <td>570</td>\n",
       "      <td>11</td>\n",
       "      <td>2007</td>\n",
       "      <td>1</td>\n",
       "      <td>13</td>\n",
       "      <td>2010</td>\n",
       "      <td>Jan,Apr,Jul,Oct</td>\n",
       "    </tr>\n",
       "    <tr>\n",
       "      <td>2</td>\n",
       "      <td>3</td>\n",
       "      <td>a</td>\n",
       "      <td>a</td>\n",
       "      <td>14130</td>\n",
       "      <td>12</td>\n",
       "      <td>2006</td>\n",
       "      <td>1</td>\n",
       "      <td>14</td>\n",
       "      <td>2011</td>\n",
       "      <td>Jan,Apr,Jul,Oct</td>\n",
       "    </tr>\n",
       "    <tr>\n",
       "      <td>3</td>\n",
       "      <td>4</td>\n",
       "      <td>c</td>\n",
       "      <td>c</td>\n",
       "      <td>620</td>\n",
       "      <td>9</td>\n",
       "      <td>2009</td>\n",
       "      <td>0</td>\n",
       "      <td>0</td>\n",
       "      <td>0</td>\n",
       "      <td>0</td>\n",
       "    </tr>\n",
       "    <tr>\n",
       "      <td>4</td>\n",
       "      <td>5</td>\n",
       "      <td>a</td>\n",
       "      <td>a</td>\n",
       "      <td>29910</td>\n",
       "      <td>4</td>\n",
       "      <td>2015</td>\n",
       "      <td>0</td>\n",
       "      <td>0</td>\n",
       "      <td>0</td>\n",
       "      <td>0</td>\n",
       "    </tr>\n",
       "    <tr>\n",
       "      <td>...</td>\n",
       "      <td>...</td>\n",
       "      <td>...</td>\n",
       "      <td>...</td>\n",
       "      <td>...</td>\n",
       "      <td>...</td>\n",
       "      <td>...</td>\n",
       "      <td>...</td>\n",
       "      <td>...</td>\n",
       "      <td>...</td>\n",
       "      <td>...</td>\n",
       "    </tr>\n",
       "    <tr>\n",
       "      <td>1110</td>\n",
       "      <td>1111</td>\n",
       "      <td>a</td>\n",
       "      <td>a</td>\n",
       "      <td>1900</td>\n",
       "      <td>6</td>\n",
       "      <td>2014</td>\n",
       "      <td>1</td>\n",
       "      <td>31</td>\n",
       "      <td>2013</td>\n",
       "      <td>Jan,Apr,Jul,Oct</td>\n",
       "    </tr>\n",
       "    <tr>\n",
       "      <td>1111</td>\n",
       "      <td>1112</td>\n",
       "      <td>c</td>\n",
       "      <td>c</td>\n",
       "      <td>1880</td>\n",
       "      <td>4</td>\n",
       "      <td>2006</td>\n",
       "      <td>0</td>\n",
       "      <td>0</td>\n",
       "      <td>0</td>\n",
       "      <td>0</td>\n",
       "    </tr>\n",
       "    <tr>\n",
       "      <td>1112</td>\n",
       "      <td>1113</td>\n",
       "      <td>a</td>\n",
       "      <td>c</td>\n",
       "      <td>9260</td>\n",
       "      <td>0</td>\n",
       "      <td>0</td>\n",
       "      <td>0</td>\n",
       "      <td>0</td>\n",
       "      <td>0</td>\n",
       "      <td>0</td>\n",
       "    </tr>\n",
       "    <tr>\n",
       "      <td>1113</td>\n",
       "      <td>1114</td>\n",
       "      <td>a</td>\n",
       "      <td>c</td>\n",
       "      <td>870</td>\n",
       "      <td>0</td>\n",
       "      <td>0</td>\n",
       "      <td>0</td>\n",
       "      <td>0</td>\n",
       "      <td>0</td>\n",
       "      <td>0</td>\n",
       "    </tr>\n",
       "    <tr>\n",
       "      <td>1114</td>\n",
       "      <td>1115</td>\n",
       "      <td>d</td>\n",
       "      <td>c</td>\n",
       "      <td>5350</td>\n",
       "      <td>0</td>\n",
       "      <td>0</td>\n",
       "      <td>1</td>\n",
       "      <td>22</td>\n",
       "      <td>2012</td>\n",
       "      <td>Mar,Jun,Sept,Dec</td>\n",
       "    </tr>\n",
       "  </tbody>\n",
       "</table>\n",
       "<p>1115 rows × 10 columns</p>\n",
       "</div>"
      ],
      "text/plain": [
       "      Store StoreType Assortment CompetitionDistance  \\\n",
       "0         1         c          a                1270   \n",
       "1         2         a          a                 570   \n",
       "2         3         a          a               14130   \n",
       "3         4         c          c                 620   \n",
       "4         5         a          a               29910   \n",
       "...     ...       ...        ...                 ...   \n",
       "1110   1111         a          a                1900   \n",
       "1111   1112         c          c                1880   \n",
       "1112   1113         a          c                9260   \n",
       "1113   1114         a          c                 870   \n",
       "1114   1115         d          c                5350   \n",
       "\n",
       "     CompetitionOpenSinceMonth CompetitionOpenSinceYear  Promo2  \\\n",
       "0                            9                     2008       0   \n",
       "1                           11                     2007       1   \n",
       "2                           12                     2006       1   \n",
       "3                            9                     2009       0   \n",
       "4                            4                     2015       0   \n",
       "...                        ...                      ...     ...   \n",
       "1110                         6                     2014       1   \n",
       "1111                         4                     2006       0   \n",
       "1112                         0                        0       0   \n",
       "1113                         0                        0       0   \n",
       "1114                         0                        0       1   \n",
       "\n",
       "     Promo2SinceWeek Promo2SinceYear     PromoInterval  \n",
       "0                  0               0                 0  \n",
       "1                 13            2010   Jan,Apr,Jul,Oct  \n",
       "2                 14            2011   Jan,Apr,Jul,Oct  \n",
       "3                  0               0                 0  \n",
       "4                  0               0                 0  \n",
       "...              ...             ...               ...  \n",
       "1110              31            2013   Jan,Apr,Jul,Oct  \n",
       "1111               0               0                 0  \n",
       "1112               0               0                 0  \n",
       "1113               0               0                 0  \n",
       "1114              22            2012  Mar,Jun,Sept,Dec  \n",
       "\n",
       "[1115 rows x 10 columns]"
      ]
     },
     "execution_count": 60,
     "metadata": {},
     "output_type": "execute_result"
    }
   ],
   "source": [
    "store"
   ]
  },
  {
   "cell_type": "code",
   "execution_count": 4,
   "metadata": {},
   "outputs": [],
   "source": [
    "from datetime import date\n",
    "train['Date'] = pd.to_datetime(train.Date, format=\"%Y-%m-%d\")\n",
    "train['year'] = train['Date'].dt.year\n",
    "train['month'] = train['Date'].dt.month\n",
    "train['day_name'] = train['Date'].dt.day_name()"
   ]
  },
  {
   "cell_type": "code",
   "execution_count": 5,
   "metadata": {},
   "outputs": [],
   "source": [
    "target = train['Sales']"
   ]
  },
  {
   "cell_type": "code",
   "execution_count": 6,
   "metadata": {},
   "outputs": [],
   "source": [
    "train1 = train.drop(['Date','day_name','Sales'],axis=1)"
   ]
  },
  {
   "cell_type": "code",
   "execution_count": 7,
   "metadata": {},
   "outputs": [
    {
     "data": {
      "text/plain": [
       "0    855087\n",
       "0    131072\n",
       "a     20260\n",
       "b      6690\n",
       "c      4100\n",
       "Name: StateHoliday, dtype: int64"
      ]
     },
     "execution_count": 7,
     "metadata": {},
     "output_type": "execute_result"
    }
   ],
   "source": [
    "train['StateHoliday'].value_counts()"
   ]
  },
  {
   "cell_type": "code",
   "execution_count": 8,
   "metadata": {},
   "outputs": [
    {
     "data": {
      "text/html": [
       "<div>\n",
       "<style scoped>\n",
       "    .dataframe tbody tr th:only-of-type {\n",
       "        vertical-align: middle;\n",
       "    }\n",
       "\n",
       "    .dataframe tbody tr th {\n",
       "        vertical-align: top;\n",
       "    }\n",
       "\n",
       "    .dataframe thead th {\n",
       "        text-align: right;\n",
       "    }\n",
       "</style>\n",
       "<table border=\"1\" class=\"dataframe\">\n",
       "  <thead>\n",
       "    <tr style=\"text-align: right;\">\n",
       "      <th></th>\n",
       "      <th>Store</th>\n",
       "      <th>DayOfWeek</th>\n",
       "      <th>Customers</th>\n",
       "      <th>Open</th>\n",
       "      <th>Promo</th>\n",
       "      <th>StateHoliday</th>\n",
       "      <th>SchoolHoliday</th>\n",
       "      <th>year</th>\n",
       "      <th>month</th>\n",
       "    </tr>\n",
       "  </thead>\n",
       "  <tbody>\n",
       "    <tr>\n",
       "      <td>0</td>\n",
       "      <td>1</td>\n",
       "      <td>5</td>\n",
       "      <td>555</td>\n",
       "      <td>1</td>\n",
       "      <td>1</td>\n",
       "      <td>0</td>\n",
       "      <td>1</td>\n",
       "      <td>2015</td>\n",
       "      <td>7</td>\n",
       "    </tr>\n",
       "    <tr>\n",
       "      <td>1</td>\n",
       "      <td>2</td>\n",
       "      <td>5</td>\n",
       "      <td>625</td>\n",
       "      <td>1</td>\n",
       "      <td>1</td>\n",
       "      <td>0</td>\n",
       "      <td>1</td>\n",
       "      <td>2015</td>\n",
       "      <td>7</td>\n",
       "    </tr>\n",
       "    <tr>\n",
       "      <td>2</td>\n",
       "      <td>3</td>\n",
       "      <td>5</td>\n",
       "      <td>821</td>\n",
       "      <td>1</td>\n",
       "      <td>1</td>\n",
       "      <td>0</td>\n",
       "      <td>1</td>\n",
       "      <td>2015</td>\n",
       "      <td>7</td>\n",
       "    </tr>\n",
       "    <tr>\n",
       "      <td>3</td>\n",
       "      <td>4</td>\n",
       "      <td>5</td>\n",
       "      <td>1498</td>\n",
       "      <td>1</td>\n",
       "      <td>1</td>\n",
       "      <td>0</td>\n",
       "      <td>1</td>\n",
       "      <td>2015</td>\n",
       "      <td>7</td>\n",
       "    </tr>\n",
       "    <tr>\n",
       "      <td>4</td>\n",
       "      <td>5</td>\n",
       "      <td>5</td>\n",
       "      <td>559</td>\n",
       "      <td>1</td>\n",
       "      <td>1</td>\n",
       "      <td>0</td>\n",
       "      <td>1</td>\n",
       "      <td>2015</td>\n",
       "      <td>7</td>\n",
       "    </tr>\n",
       "    <tr>\n",
       "      <td>...</td>\n",
       "      <td>...</td>\n",
       "      <td>...</td>\n",
       "      <td>...</td>\n",
       "      <td>...</td>\n",
       "      <td>...</td>\n",
       "      <td>...</td>\n",
       "      <td>...</td>\n",
       "      <td>...</td>\n",
       "      <td>...</td>\n",
       "    </tr>\n",
       "    <tr>\n",
       "      <td>1017204</td>\n",
       "      <td>1111</td>\n",
       "      <td>2</td>\n",
       "      <td>0</td>\n",
       "      <td>0</td>\n",
       "      <td>0</td>\n",
       "      <td>a</td>\n",
       "      <td>1</td>\n",
       "      <td>2013</td>\n",
       "      <td>1</td>\n",
       "    </tr>\n",
       "    <tr>\n",
       "      <td>1017205</td>\n",
       "      <td>1112</td>\n",
       "      <td>2</td>\n",
       "      <td>0</td>\n",
       "      <td>0</td>\n",
       "      <td>0</td>\n",
       "      <td>a</td>\n",
       "      <td>1</td>\n",
       "      <td>2013</td>\n",
       "      <td>1</td>\n",
       "    </tr>\n",
       "    <tr>\n",
       "      <td>1017206</td>\n",
       "      <td>1113</td>\n",
       "      <td>2</td>\n",
       "      <td>0</td>\n",
       "      <td>0</td>\n",
       "      <td>0</td>\n",
       "      <td>a</td>\n",
       "      <td>1</td>\n",
       "      <td>2013</td>\n",
       "      <td>1</td>\n",
       "    </tr>\n",
       "    <tr>\n",
       "      <td>1017207</td>\n",
       "      <td>1114</td>\n",
       "      <td>2</td>\n",
       "      <td>0</td>\n",
       "      <td>0</td>\n",
       "      <td>0</td>\n",
       "      <td>a</td>\n",
       "      <td>1</td>\n",
       "      <td>2013</td>\n",
       "      <td>1</td>\n",
       "    </tr>\n",
       "    <tr>\n",
       "      <td>1017208</td>\n",
       "      <td>1115</td>\n",
       "      <td>2</td>\n",
       "      <td>0</td>\n",
       "      <td>0</td>\n",
       "      <td>0</td>\n",
       "      <td>a</td>\n",
       "      <td>1</td>\n",
       "      <td>2013</td>\n",
       "      <td>1</td>\n",
       "    </tr>\n",
       "  </tbody>\n",
       "</table>\n",
       "<p>1017209 rows × 9 columns</p>\n",
       "</div>"
      ],
      "text/plain": [
       "         Store  DayOfWeek  Customers  Open  Promo StateHoliday  SchoolHoliday  \\\n",
       "0            1          5        555     1      1            0              1   \n",
       "1            2          5        625     1      1            0              1   \n",
       "2            3          5        821     1      1            0              1   \n",
       "3            4          5       1498     1      1            0              1   \n",
       "4            5          5        559     1      1            0              1   \n",
       "...        ...        ...        ...   ...    ...          ...            ...   \n",
       "1017204   1111          2          0     0      0            a              1   \n",
       "1017205   1112          2          0     0      0            a              1   \n",
       "1017206   1113          2          0     0      0            a              1   \n",
       "1017207   1114          2          0     0      0            a              1   \n",
       "1017208   1115          2          0     0      0            a              1   \n",
       "\n",
       "         year  month  \n",
       "0        2015      7  \n",
       "1        2015      7  \n",
       "2        2015      7  \n",
       "3        2015      7  \n",
       "4        2015      7  \n",
       "...       ...    ...  \n",
       "1017204  2013      1  \n",
       "1017205  2013      1  \n",
       "1017206  2013      1  \n",
       "1017207  2013      1  \n",
       "1017208  2013      1  \n",
       "\n",
       "[1017209 rows x 9 columns]"
      ]
     },
     "execution_count": 8,
     "metadata": {},
     "output_type": "execute_result"
    }
   ],
   "source": [
    "train1"
   ]
  },
  {
   "cell_type": "code",
   "execution_count": 9,
   "metadata": {},
   "outputs": [],
   "source": [
    "from sklearn.preprocessing import LabelEncoder\n",
    "le = LabelEncoder()"
   ]
  },
  {
   "cell_type": "code",
   "execution_count": 10,
   "metadata": {},
   "outputs": [],
   "source": [
    "l = []\n",
    "for v in train['StateHoliday']:\n",
    "    if v==0 or v=='0':\n",
    "        l.append('0')\n",
    "    if v=='a':\n",
    "        l.append('1')\n",
    "    if v=='b':\n",
    "        l.append('2')\n",
    "    if v=='c':\n",
    "        l.append('3')"
   ]
  },
  {
   "cell_type": "code",
   "execution_count": 11,
   "metadata": {},
   "outputs": [],
   "source": [
    "train1 = train.drop(['StateHoliday','Date'],axis=1)\n",
    "train1['StateHoliday']=l"
   ]
  },
  {
   "cell_type": "code",
   "execution_count": 12,
   "metadata": {},
   "outputs": [
    {
     "name": "stdout",
     "output_type": "stream",
     "text": [
      "<class 'pandas.core.frame.DataFrame'>\n",
      "RangeIndex: 1017209 entries, 0 to 1017208\n",
      "Data columns (total 11 columns):\n",
      "Store            1017209 non-null int64\n",
      "DayOfWeek        1017209 non-null int64\n",
      "Sales            1017209 non-null int64\n",
      "Customers        1017209 non-null int64\n",
      "Open             1017209 non-null int64\n",
      "Promo            1017209 non-null int64\n",
      "SchoolHoliday    1017209 non-null int64\n",
      "year             1017209 non-null int64\n",
      "month            1017209 non-null int64\n",
      "day_name         1017209 non-null object\n",
      "StateHoliday     1017209 non-null object\n",
      "dtypes: int64(9), object(2)\n",
      "memory usage: 85.4+ MB\n"
     ]
    }
   ],
   "source": [
    "train1.info()"
   ]
  },
  {
   "cell_type": "code",
   "execution_count": 13,
   "metadata": {},
   "outputs": [],
   "source": [
    "test['Date'] = pd.to_datetime(test.Date, format=\"%Y-%m-%d\")\n",
    "test['year'] = test['Date'].dt.year\n",
    "test['month'] = test['Date'].dt.month\n",
    "test['day_name'] = test['Date'].dt.day_name()"
   ]
  },
  {
   "cell_type": "code",
   "execution_count": 14,
   "metadata": {},
   "outputs": [],
   "source": [
    "test = test.drop(['Date','day_name','Id'],axis=1)"
   ]
  },
  {
   "cell_type": "code",
   "execution_count": 15,
   "metadata": {},
   "outputs": [],
   "source": [
    "lt = []\n",
    "for v in test['StateHoliday']:\n",
    "    if v==0 or v=='0':\n",
    "        lt.append('0')\n",
    "    if v=='a':\n",
    "        lt.append('1')"
   ]
  },
  {
   "cell_type": "code",
   "execution_count": 16,
   "metadata": {},
   "outputs": [],
   "source": [
    "test1=test.drop(['StateHoliday'],axis=1)\n",
    "test1['StateHoliday']=lt"
   ]
  },
  {
   "cell_type": "code",
   "execution_count": 17,
   "metadata": {},
   "outputs": [
    {
     "name": "stdout",
     "output_type": "stream",
     "text": [
      "<class 'pandas.core.frame.DataFrame'>\n",
      "RangeIndex: 1115 entries, 0 to 1114\n",
      "Data columns (total 10 columns):\n",
      "Store                        1115 non-null int64\n",
      "StoreType                    1115 non-null object\n",
      "Assortment                   1115 non-null object\n",
      "CompetitionDistance          1112 non-null float64\n",
      "CompetitionOpenSinceMonth    761 non-null float64\n",
      "CompetitionOpenSinceYear     761 non-null float64\n",
      "Promo2                       1115 non-null int64\n",
      "Promo2SinceWeek              571 non-null float64\n",
      "Promo2SinceYear              571 non-null float64\n",
      "PromoInterval                571 non-null object\n",
      "dtypes: float64(5), int64(2), object(3)\n",
      "memory usage: 87.2+ KB\n"
     ]
    }
   ],
   "source": [
    "store.info()"
   ]
  },
  {
   "cell_type": "code",
   "execution_count": 18,
   "metadata": {},
   "outputs": [
    {
     "data": {
      "text/plain": [
       "False    571\n",
       "True     544\n",
       "Name: PromoInterval, dtype: int64"
      ]
     },
     "execution_count": 18,
     "metadata": {},
     "output_type": "execute_result"
    }
   ],
   "source": [
    "store['PromoInterval'].isnull().value_counts()"
   ]
  },
  {
   "cell_type": "code",
   "execution_count": 19,
   "metadata": {},
   "outputs": [],
   "source": [
    "store = store.fillna('0')"
   ]
  },
  {
   "cell_type": "code",
   "execution_count": 20,
   "metadata": {},
   "outputs": [
    {
     "data": {
      "text/plain": [
       "0                   544\n",
       "Jan,Apr,Jul,Oct     335\n",
       "Feb,May,Aug,Nov     130\n",
       "Mar,Jun,Sept,Dec    106\n",
       "Name: PromoInterval, dtype: int64"
      ]
     },
     "execution_count": 20,
     "metadata": {},
     "output_type": "execute_result"
    }
   ],
   "source": [
    "store['PromoInterval'].value_counts()"
   ]
  },
  {
   "cell_type": "code",
   "execution_count": 21,
   "metadata": {},
   "outputs": [],
   "source": [
    "n = []\n",
    "for s in store['PromoInterval']:\n",
    "    if s=='0':\n",
    "        n.append('0')\n",
    "    elif s=='Jan,Apr,Jul,Oct':\n",
    "        n.append('1')\n",
    "    elif s=='Feb,May,Aug,Nov':\n",
    "        n.append('2')\n",
    "    elif s=='Mar,Jun,Sept,Dec':\n",
    "        n.append('3')"
   ]
  },
  {
   "cell_type": "code",
   "execution_count": 22,
   "metadata": {},
   "outputs": [
    {
     "data": {
      "text/plain": [
       "1115"
      ]
     },
     "execution_count": 22,
     "metadata": {},
     "output_type": "execute_result"
    }
   ],
   "source": [
    "len(n)"
   ]
  },
  {
   "cell_type": "code",
   "execution_count": 23,
   "metadata": {},
   "outputs": [],
   "source": [
    "store1 = store.drop(['PromoInterval'], axis=1)"
   ]
  },
  {
   "cell_type": "code",
   "execution_count": 24,
   "metadata": {},
   "outputs": [],
   "source": [
    "store1['PromoInterval'] = n"
   ]
  },
  {
   "cell_type": "code",
   "execution_count": 25,
   "metadata": {},
   "outputs": [],
   "source": [
    "traindata = pd.merge(train, store1, how = 'left', on='Store')"
   ]
  },
  {
   "cell_type": "code",
   "execution_count": 26,
   "metadata": {},
   "outputs": [],
   "source": [
    "testdata = pd.merge(test, store1, how = 'left', on='Store')"
   ]
  },
  {
   "cell_type": "code",
   "execution_count": 27,
   "metadata": {},
   "outputs": [
    {
     "data": {
      "text/html": [
       "<div>\n",
       "<style scoped>\n",
       "    .dataframe tbody tr th:only-of-type {\n",
       "        vertical-align: middle;\n",
       "    }\n",
       "\n",
       "    .dataframe tbody tr th {\n",
       "        vertical-align: top;\n",
       "    }\n",
       "\n",
       "    .dataframe thead th {\n",
       "        text-align: right;\n",
       "    }\n",
       "</style>\n",
       "<table border=\"1\" class=\"dataframe\">\n",
       "  <thead>\n",
       "    <tr style=\"text-align: right;\">\n",
       "      <th></th>\n",
       "      <th>Store</th>\n",
       "      <th>DayOfWeek</th>\n",
       "      <th>Date</th>\n",
       "      <th>Sales</th>\n",
       "      <th>Customers</th>\n",
       "      <th>Open</th>\n",
       "      <th>Promo</th>\n",
       "      <th>StateHoliday</th>\n",
       "      <th>SchoolHoliday</th>\n",
       "      <th>year</th>\n",
       "      <th>...</th>\n",
       "      <th>day_name</th>\n",
       "      <th>StoreType</th>\n",
       "      <th>Assortment</th>\n",
       "      <th>CompetitionDistance</th>\n",
       "      <th>CompetitionOpenSinceMonth</th>\n",
       "      <th>CompetitionOpenSinceYear</th>\n",
       "      <th>Promo2</th>\n",
       "      <th>Promo2SinceWeek</th>\n",
       "      <th>Promo2SinceYear</th>\n",
       "      <th>PromoInterval</th>\n",
       "    </tr>\n",
       "  </thead>\n",
       "  <tbody>\n",
       "    <tr>\n",
       "      <td>0</td>\n",
       "      <td>1</td>\n",
       "      <td>5</td>\n",
       "      <td>2015-07-31</td>\n",
       "      <td>5263</td>\n",
       "      <td>555</td>\n",
       "      <td>1</td>\n",
       "      <td>1</td>\n",
       "      <td>0</td>\n",
       "      <td>1</td>\n",
       "      <td>2015</td>\n",
       "      <td>...</td>\n",
       "      <td>Friday</td>\n",
       "      <td>c</td>\n",
       "      <td>a</td>\n",
       "      <td>1270</td>\n",
       "      <td>9</td>\n",
       "      <td>2008</td>\n",
       "      <td>0</td>\n",
       "      <td>0</td>\n",
       "      <td>0</td>\n",
       "      <td>0</td>\n",
       "    </tr>\n",
       "    <tr>\n",
       "      <td>1</td>\n",
       "      <td>2</td>\n",
       "      <td>5</td>\n",
       "      <td>2015-07-31</td>\n",
       "      <td>6064</td>\n",
       "      <td>625</td>\n",
       "      <td>1</td>\n",
       "      <td>1</td>\n",
       "      <td>0</td>\n",
       "      <td>1</td>\n",
       "      <td>2015</td>\n",
       "      <td>...</td>\n",
       "      <td>Friday</td>\n",
       "      <td>a</td>\n",
       "      <td>a</td>\n",
       "      <td>570</td>\n",
       "      <td>11</td>\n",
       "      <td>2007</td>\n",
       "      <td>1</td>\n",
       "      <td>13</td>\n",
       "      <td>2010</td>\n",
       "      <td>1</td>\n",
       "    </tr>\n",
       "    <tr>\n",
       "      <td>2</td>\n",
       "      <td>3</td>\n",
       "      <td>5</td>\n",
       "      <td>2015-07-31</td>\n",
       "      <td>8314</td>\n",
       "      <td>821</td>\n",
       "      <td>1</td>\n",
       "      <td>1</td>\n",
       "      <td>0</td>\n",
       "      <td>1</td>\n",
       "      <td>2015</td>\n",
       "      <td>...</td>\n",
       "      <td>Friday</td>\n",
       "      <td>a</td>\n",
       "      <td>a</td>\n",
       "      <td>14130</td>\n",
       "      <td>12</td>\n",
       "      <td>2006</td>\n",
       "      <td>1</td>\n",
       "      <td>14</td>\n",
       "      <td>2011</td>\n",
       "      <td>1</td>\n",
       "    </tr>\n",
       "    <tr>\n",
       "      <td>3</td>\n",
       "      <td>4</td>\n",
       "      <td>5</td>\n",
       "      <td>2015-07-31</td>\n",
       "      <td>13995</td>\n",
       "      <td>1498</td>\n",
       "      <td>1</td>\n",
       "      <td>1</td>\n",
       "      <td>0</td>\n",
       "      <td>1</td>\n",
       "      <td>2015</td>\n",
       "      <td>...</td>\n",
       "      <td>Friday</td>\n",
       "      <td>c</td>\n",
       "      <td>c</td>\n",
       "      <td>620</td>\n",
       "      <td>9</td>\n",
       "      <td>2009</td>\n",
       "      <td>0</td>\n",
       "      <td>0</td>\n",
       "      <td>0</td>\n",
       "      <td>0</td>\n",
       "    </tr>\n",
       "    <tr>\n",
       "      <td>4</td>\n",
       "      <td>5</td>\n",
       "      <td>5</td>\n",
       "      <td>2015-07-31</td>\n",
       "      <td>4822</td>\n",
       "      <td>559</td>\n",
       "      <td>1</td>\n",
       "      <td>1</td>\n",
       "      <td>0</td>\n",
       "      <td>1</td>\n",
       "      <td>2015</td>\n",
       "      <td>...</td>\n",
       "      <td>Friday</td>\n",
       "      <td>a</td>\n",
       "      <td>a</td>\n",
       "      <td>29910</td>\n",
       "      <td>4</td>\n",
       "      <td>2015</td>\n",
       "      <td>0</td>\n",
       "      <td>0</td>\n",
       "      <td>0</td>\n",
       "      <td>0</td>\n",
       "    </tr>\n",
       "  </tbody>\n",
       "</table>\n",
       "<p>5 rows × 21 columns</p>\n",
       "</div>"
      ],
      "text/plain": [
       "   Store  DayOfWeek       Date  Sales  Customers  Open  Promo StateHoliday  \\\n",
       "0      1          5 2015-07-31   5263        555     1      1            0   \n",
       "1      2          5 2015-07-31   6064        625     1      1            0   \n",
       "2      3          5 2015-07-31   8314        821     1      1            0   \n",
       "3      4          5 2015-07-31  13995       1498     1      1            0   \n",
       "4      5          5 2015-07-31   4822        559     1      1            0   \n",
       "\n",
       "   SchoolHoliday  year  ...  day_name StoreType Assortment  \\\n",
       "0              1  2015  ...    Friday         c          a   \n",
       "1              1  2015  ...    Friday         a          a   \n",
       "2              1  2015  ...    Friday         a          a   \n",
       "3              1  2015  ...    Friday         c          c   \n",
       "4              1  2015  ...    Friday         a          a   \n",
       "\n",
       "  CompetitionDistance CompetitionOpenSinceMonth CompetitionOpenSinceYear  \\\n",
       "0                1270                         9                     2008   \n",
       "1                 570                        11                     2007   \n",
       "2               14130                        12                     2006   \n",
       "3                 620                         9                     2009   \n",
       "4               29910                         4                     2015   \n",
       "\n",
       "  Promo2  Promo2SinceWeek Promo2SinceYear PromoInterval  \n",
       "0      0                0               0             0  \n",
       "1      1               13            2010             1  \n",
       "2      1               14            2011             1  \n",
       "3      0                0               0             0  \n",
       "4      0                0               0             0  \n",
       "\n",
       "[5 rows x 21 columns]"
      ]
     },
     "execution_count": 27,
     "metadata": {},
     "output_type": "execute_result"
    }
   ],
   "source": [
    "traindata.head()"
   ]
  },
  {
   "cell_type": "code",
   "execution_count": 28,
   "metadata": {},
   "outputs": [],
   "source": [
    "traindata['Assortment'] = le.fit_transform(traindata['Assortment'])\n",
    "traindata['StoreType'] = le.fit_transform(traindata['StoreType'])"
   ]
  },
  {
   "cell_type": "code",
   "execution_count": 29,
   "metadata": {},
   "outputs": [],
   "source": [
    "traindata = traindata.drop(['Date'],axis=1)"
   ]
  },
  {
   "cell_type": "code",
   "execution_count": 30,
   "metadata": {},
   "outputs": [],
   "source": [
    "from sklearn.model_selection import train_test_split"
   ]
  },
  {
   "cell_type": "code",
   "execution_count": 31,
   "metadata": {},
   "outputs": [
    {
     "data": {
      "text/plain": [
       "0    855087\n",
       "0    131072\n",
       "a     20260\n",
       "b      6690\n",
       "c      4100\n",
       "Name: StateHoliday, dtype: int64"
      ]
     },
     "execution_count": 31,
     "metadata": {},
     "output_type": "execute_result"
    }
   ],
   "source": [
    "traindata['StateHoliday'].value_counts()"
   ]
  },
  {
   "cell_type": "code",
   "execution_count": 32,
   "metadata": {},
   "outputs": [],
   "source": [
    "l = []\n",
    "for v in traindata['StateHoliday']:\n",
    "    if v==0 or v=='0':\n",
    "        l.append('0')\n",
    "    if v=='a':\n",
    "        l.append('1')\n",
    "    if v=='b':\n",
    "        l.append('2')\n",
    "    if v=='c':\n",
    "        l.append('3')"
   ]
  },
  {
   "cell_type": "code",
   "execution_count": 33,
   "metadata": {},
   "outputs": [],
   "source": [
    "traindata = traindata.drop(['StateHoliday'],axis=1)\n",
    "traindata['StateHoliday'] = l"
   ]
  },
  {
   "cell_type": "code",
   "execution_count": 34,
   "metadata": {},
   "outputs": [
    {
     "data": {
      "text/plain": [
       "Index(['Store', 'DayOfWeek', 'Sales', 'Customers', 'Open', 'Promo',\n",
       "       'SchoolHoliday', 'year', 'month', 'day_name', 'StoreType', 'Assortment',\n",
       "       'CompetitionDistance', 'CompetitionOpenSinceMonth',\n",
       "       'CompetitionOpenSinceYear', 'Promo2', 'Promo2SinceWeek',\n",
       "       'Promo2SinceYear', 'PromoInterval', 'StateHoliday'],\n",
       "      dtype='object')"
      ]
     },
     "execution_count": 34,
     "metadata": {},
     "output_type": "execute_result"
    }
   ],
   "source": [
    "traindata.columns"
   ]
  },
  {
   "cell_type": "code",
   "execution_count": 35,
   "metadata": {},
   "outputs": [],
   "source": [
    "traindata = traindata.drop(['day_name'],axis=1)"
   ]
  },
  {
   "cell_type": "code",
   "execution_count": 36,
   "metadata": {},
   "outputs": [
    {
     "data": {
      "text/plain": [
       "Store                         int64\n",
       "DayOfWeek                     int64\n",
       "Sales                         int64\n",
       "Customers                     int64\n",
       "Open                          int64\n",
       "Promo                         int64\n",
       "SchoolHoliday                 int64\n",
       "year                          int64\n",
       "month                         int64\n",
       "StoreType                     int32\n",
       "Assortment                    int32\n",
       "CompetitionDistance          object\n",
       "CompetitionOpenSinceMonth    object\n",
       "CompetitionOpenSinceYear     object\n",
       "Promo2                        int64\n",
       "Promo2SinceWeek              object\n",
       "Promo2SinceYear              object\n",
       "PromoInterval                object\n",
       "StateHoliday                 object\n",
       "dtype: object"
      ]
     },
     "execution_count": 36,
     "metadata": {},
     "output_type": "execute_result"
    }
   ],
   "source": [
    "traindata.dtypes"
   ]
  },
  {
   "cell_type": "code",
   "execution_count": 37,
   "metadata": {},
   "outputs": [],
   "source": [
    "traindata = traindata.drop_duplicates(keep=\"first\", inplace=False)"
   ]
  },
  {
   "cell_type": "code",
   "execution_count": 38,
   "metadata": {},
   "outputs": [
    {
     "name": "stdout",
     "output_type": "stream",
     "text": [
      "(454963, 18) (454964, 18) (454963,) (454964,)\n"
     ]
    }
   ],
   "source": [
    "X = traindata.drop(['Sales'],axis=1).iloc[:,]\n",
    "Y = traindata.iloc[:,2]\n",
    "Xtrain, xtest, Ytrain, ytest = train_test_split(X,Y,test_size=0.50,random_state=30)\n",
    "print(Xtrain.shape, xtest.shape, Ytrain.shape, ytest.shape)"
   ]
  },
  {
   "cell_type": "code",
   "execution_count": 39,
   "metadata": {},
   "outputs": [],
   "source": [
    "import tensorflow as tf\n",
    "from tensorflow import keras\n",
    "from tensorflow.keras import layers"
   ]
  },
  {
   "cell_type": "code",
   "execution_count": 43,
   "metadata": {},
   "outputs": [
    {
     "name": "stderr",
     "output_type": "stream",
     "text": [
      "Using TensorFlow backend.\n"
     ]
    }
   ],
   "source": [
    "from keras.layers import Input, Dense\n",
    "from keras.models import Model\n",
    "inputs = Input(shape=(18,))\n",
    "x = Dense(32, activation='relu')(inputs)\n",
    "x = Dense(64, activation='relu')(x)\n",
    "x = Dense(64, activation='relu')(x)\n",
    "predictions = Dense(1)(x)\n",
    " \n",
    "# This creates a model that includes\n",
    "# the Input layer and three Dense layers\n",
    "model = Model(inputs=inputs, outputs=predictions)\n",
    "# Here the loss function is mse - Mean Squared Error because it is a regression problem.\n",
    "model.compile(optimizer='rmsprop',\n",
    "              loss='mse',\n",
    "              metrics=['mse'])"
   ]
  },
  {
   "cell_type": "code",
   "execution_count": 44,
   "metadata": {},
   "outputs": [
    {
     "name": "stdout",
     "output_type": "stream",
     "text": [
      "Epoch 1/100\n",
      "454963/454963 [==============================] - 35s 76us/step - loss: 2190217.5578 - mse: 2190219.0000\n",
      "Epoch 2/100\n",
      "454963/454963 [==============================] - 33s 74us/step - loss: 1627921.4877 - mse: 1627923.1250\n",
      "Epoch 3/100\n",
      "454963/454963 [==============================] - 34s 74us/step - loss: 1478554.3766 - mse: 1478555.8750\n",
      "Epoch 4/100\n",
      "454963/454963 [==============================] - 34s 75us/step - loss: 1387508.2105 - mse: 1387507.7500\n",
      "Epoch 5/100\n",
      "454963/454963 [==============================] - 34s 74us/step - loss: 1313624.1067 - mse: 1313622.0000\n",
      "Epoch 6/100\n",
      "454963/454963 [==============================] - 34s 74us/step - loss: 1249836.8491 - mse: 1249838.8750\n",
      "Epoch 7/100\n",
      "454963/454963 [==============================] - 33s 74us/step - loss: 1190772.5238 - mse: 1190772.5000\n",
      "Epoch 8/100\n",
      "454963/454963 [==============================] - 36s 78us/step - loss: 1137004.7905 - mse: 1137002.3750\n",
      "Epoch 9/100\n",
      "454963/454963 [==============================] - 35s 76us/step - loss: 1080986.9990 - mse: 1080986.0000\n",
      "Epoch 10/100\n",
      "454963/454963 [==============================] - 37s 82us/step - loss: 1036117.0760 - mse: 1036119.1250\n",
      "Epoch 11/100\n",
      "454963/454963 [==============================] - 37s 80us/step - loss: 1002878.4568 - mse: 1002878.8750\n",
      "Epoch 12/100\n",
      "454963/454963 [==============================] - 36s 78us/step - loss: 974252.7695 - mse: 974254.3750\n",
      "Epoch 13/100\n",
      "454963/454963 [==============================] - 34s 74us/step - loss: 941843.0252 - mse: 941842.9375\n",
      "Epoch 14/100\n",
      "454963/454963 [==============================] - 34s 75us/step - loss: 912579.5073 - mse: 912577.6875\n",
      "Epoch 15/100\n",
      "454963/454963 [==============================] - 34s 74us/step - loss: 882650.4062 - mse: 882650.7500\n",
      "Epoch 16/100\n",
      "454963/454963 [==============================] - 34s 75us/step - loss: 856839.5903 - mse: 856839.5000\n",
      "Epoch 17/100\n",
      "454963/454963 [==============================] - 33s 74us/step - loss: 832411.4578 - mse: 832413.6250\n",
      "Epoch 18/100\n",
      "454963/454963 [==============================] - 34s 74us/step - loss: 807400.0005 - mse: 807401.0000\n",
      "Epoch 19/100\n",
      "454963/454963 [==============================] - 34s 74us/step - loss: 788210.7986 - mse: 788211.8125\n",
      "Epoch 20/100\n",
      "454963/454963 [==============================] - 33s 73us/step - loss: 767126.9641 - mse: 767125.8750\n",
      "Epoch 21/100\n",
      "454963/454963 [==============================] - 33s 74us/step - loss: 754815.1023 - mse: 754817.4375\n",
      "Epoch 22/100\n",
      "454963/454963 [==============================] - 33s 73us/step - loss: 739576.3933 - mse: 739577.4375\n",
      "Epoch 23/100\n",
      "454963/454963 [==============================] - 34s 75us/step - loss: 725479.8728 - mse: 725478.7500\n",
      "Epoch 24/100\n",
      "454963/454963 [==============================] - 33s 73us/step - loss: 711970.9249 - mse: 711969.6875\n",
      "Epoch 25/100\n",
      "454963/454963 [==============================] - 34s 74us/step - loss: 700670.4212 - mse: 700670.7500\n",
      "Epoch 26/100\n",
      "454963/454963 [==============================] - 34s 76us/step - loss: 688975.7383 - mse: 688975.1875\n",
      "Epoch 27/100\n",
      "454963/454963 [==============================] - 34s 75us/step - loss: 679807.5004 - mse: 679806.1875\n",
      "Epoch 28/100\n",
      "454963/454963 [==============================] - 33s 74us/step - loss: 672031.6222 - mse: 672032.5000\n",
      "Epoch 29/100\n",
      "454963/454963 [==============================] - 33s 73us/step - loss: 662747.4863 - mse: 662747.3125\n",
      "Epoch 30/100\n",
      "454963/454963 [==============================] - 34s 76us/step - loss: 653366.6277 - mse: 653367.1875\n",
      "Epoch 31/100\n",
      "454963/454963 [==============================] - 33s 73us/step - loss: 643385.1861 - mse: 643385.8750\n",
      "Epoch 32/100\n",
      "454963/454963 [==============================] - 33s 73us/step - loss: 634334.3347 - mse: 634334.4375\n",
      "Epoch 33/100\n",
      "454963/454963 [==============================] - 35s 78us/step - loss: 624827.3823 - mse: 624827.3125\n",
      "Epoch 34/100\n",
      "454963/454963 [==============================] - 34s 76us/step - loss: 616313.5569 - mse: 616312.4375\n",
      "Epoch 35/100\n",
      "454963/454963 [==============================] - 34s 76us/step - loss: 608640.7709 - mse: 608641.5625\n",
      "Epoch 36/100\n",
      "454963/454963 [==============================] - 35s 77us/step - loss: 601570.9454 - mse: 601571.5625\n",
      "Epoch 37/100\n",
      "454963/454963 [==============================] - 35s 77us/step - loss: 594101.1372 - mse: 594103.4375\n",
      "Epoch 38/100\n",
      "454963/454963 [==============================] - 34s 74us/step - loss: 587693.7469 - mse: 587693.5625\n",
      "Epoch 39/100\n",
      "454963/454963 [==============================] - ETA: 0s - loss: 582799.5063 - mse: 582799.187 - 34s 75us/step - loss: 582880.4880 - mse: 582880.1875\n",
      "Epoch 40/100\n",
      "454963/454963 [==============================] - 36s 80us/step - loss: 577223.2232 - mse: 577222.9375\n",
      "Epoch 41/100\n",
      "454963/454963 [==============================] - 36s 80us/step - loss: 571799.9056 - mse: 571799.3750\n",
      "Epoch 42/100\n",
      "454963/454963 [==============================] - 34s 75us/step - loss: 570503.7875 - mse: 570504.1250\n",
      "Epoch 43/100\n",
      "454963/454963 [==============================] - 35s 77us/step - loss: 566510.6320 - mse: 566510.8750\n",
      "Epoch 44/100\n",
      "454963/454963 [==============================] - 36s 80us/step - loss: 562361.1436 - mse: 562361.6875\n",
      "Epoch 45/100\n",
      "454963/454963 [==============================] - 35s 77us/step - loss: 558680.5519 - mse: 558679.9375\n",
      "Epoch 46/100\n",
      "454963/454963 [==============================] - 35s 77us/step - loss: 558575.9057 - mse: 558574.6250\n",
      "Epoch 47/100\n",
      "454963/454963 [==============================] - 35s 76us/step - loss: 554986.5281 - mse: 554987.6250\n",
      "Epoch 48/100\n",
      "454963/454963 [==============================] - 35s 76us/step - loss: 552786.6514 - mse: 552787.6250\n",
      "Epoch 49/100\n",
      "454963/454963 [==============================] - 34s 75us/step - loss: 550444.2151 - mse: 550443.1875\n",
      "Epoch 50/100\n",
      "454963/454963 [==============================] - 34s 75us/step - loss: 545378.7862 - mse: 545379.0000\n",
      "Epoch 51/100\n",
      "454963/454963 [==============================] - 34s 75us/step - loss: 541870.0146 - mse: 541871.2500\n",
      "Epoch 52/100\n",
      "454963/454963 [==============================] - 35s 76us/step - loss: 539569.2447 - mse: 539568.2500\n",
      "Epoch 53/100\n",
      "454963/454963 [==============================] - 35s 77us/step - loss: 538031.5959 - mse: 538030.1250\n",
      "Epoch 54/100\n",
      "454963/454963 [==============================] - 34s 75us/step - loss: 536812.1876 - mse: 536811.1250\n",
      "Epoch 55/100\n",
      "454963/454963 [==============================] - 35s 76us/step - loss: 534521.6086 - mse: 534521.8125\n",
      "Epoch 56/100\n",
      "454963/454963 [==============================] - 35s 77us/step - loss: 532236.6155 - mse: 532236.5625\n",
      "Epoch 57/100\n",
      "454963/454963 [==============================] - 35s 77us/step - loss: 529749.5775 - mse: 529749.5000\n",
      "Epoch 58/100\n",
      "454963/454963 [==============================] - 35s 76us/step - loss: 529388.3626 - mse: 529387.8750\n",
      "Epoch 59/100\n",
      "454963/454963 [==============================] - 35s 76us/step - loss: 526531.7007 - mse: 526531.3750\n",
      "Epoch 60/100\n",
      "454963/454963 [==============================] - 34s 75us/step - loss: 526466.5326 - mse: 526466.6250\n",
      "Epoch 61/100\n",
      "454963/454963 [==============================] - 36s 78us/step - loss: 527007.9126 - mse: 527007.4375\n",
      "Epoch 62/100\n",
      "454963/454963 [==============================] - 36s 78us/step - loss: 524033.4106 - mse: 524033.8750\n",
      "Epoch 63/100\n",
      "454963/454963 [==============================] - 36s 78us/step - loss: 521475.9714 - mse: 521476.8125\n",
      "Epoch 64/100\n",
      "454963/454963 [==============================] - 36s 79us/step - loss: 521022.7949 - mse: 521024.9375\n",
      "Epoch 65/100\n",
      "454963/454963 [==============================] - 35s 77us/step - loss: 518025.4905 - mse: 518023.9688\n",
      "Epoch 66/100\n",
      "454963/454963 [==============================] - 35s 76us/step - loss: 516823.8967 - mse: 516823.4062\n",
      "Epoch 67/100\n",
      "454963/454963 [==============================] - 34s 76us/step - loss: 515060.4031 - mse: 515061.0312\n",
      "Epoch 68/100\n",
      "454963/454963 [==============================] - 35s 77us/step - loss: 515206.8816 - mse: 515207.9062\n",
      "Epoch 69/100\n",
      "454963/454963 [==============================] - 35s 78us/step - loss: 511789.1270 - mse: 511789.5000\n",
      "Epoch 70/100\n",
      "454963/454963 [==============================] - 34s 76us/step - loss: 510127.3458 - mse: 510127.1250\n",
      "Epoch 71/100\n"
     ]
    },
    {
     "name": "stdout",
     "output_type": "stream",
     "text": [
      "454963/454963 [==============================] - 35s 76us/step - loss: 508647.5882 - mse: 508647.1875\n",
      "Epoch 72/100\n",
      "454963/454963 [==============================] - 35s 76us/step - loss: 507412.6194 - mse: 507412.1250\n",
      "Epoch 73/100\n",
      "454963/454963 [==============================] - 34s 74us/step - loss: 506987.1301 - mse: 506986.5000\n",
      "Epoch 74/100\n",
      "454963/454963 [==============================] - 35s 76us/step - loss: 507268.8088 - mse: 507268.7188\n",
      "Epoch 75/100\n",
      "454963/454963 [==============================] - 34s 75us/step - loss: 504526.4393 - mse: 504525.1250\n",
      "Epoch 76/100\n",
      "454963/454963 [==============================] - 34s 74us/step - loss: 504110.3209 - mse: 504110.7188\n",
      "Epoch 77/100\n",
      "454963/454963 [==============================] - 34s 75us/step - loss: 503082.2271 - mse: 503082.3125\n",
      "Epoch 78/100\n",
      "454963/454963 [==============================] - 36s 79us/step - loss: 501553.7969 - mse: 501554.1562\n",
      "Epoch 79/100\n",
      "454963/454963 [==============================] - 34s 76us/step - loss: 501188.4007 - mse: 501188.6875\n",
      "Epoch 80/100\n",
      "454963/454963 [==============================] - 34s 76us/step - loss: 498974.1424 - mse: 498974.2812\n",
      "Epoch 81/100\n",
      "454963/454963 [==============================] - 34s 75us/step - loss: 498529.0408 - mse: 498527.8125\n",
      "Epoch 82/100\n",
      "454963/454963 [==============================] - 34s 76us/step - loss: 498664.9181 - mse: 498665.5625\n",
      "Epoch 83/100\n",
      "454963/454963 [==============================] - 34s 76us/step - loss: 496243.6379 - mse: 496242.3125\n",
      "Epoch 84/100\n",
      "454963/454963 [==============================] - 35s 77us/step - loss: 495426.5265 - mse: 495426.0938\n",
      "Epoch 85/100\n",
      "454963/454963 [==============================] - 36s 80us/step - loss: 493412.0510 - mse: 493412.6250\n",
      "Epoch 86/100\n",
      "454963/454963 [==============================] - 35s 76us/step - loss: 492680.7477 - mse: 492679.7812\n",
      "Epoch 87/100\n",
      "454963/454963 [==============================] - 35s 77us/step - loss: 491762.6773 - mse: 491762.9375\n",
      "Epoch 88/100\n",
      "454963/454963 [==============================] - 34s 75us/step - loss: 490613.8572 - mse: 490614.0625\n",
      "Epoch 89/100\n",
      "454963/454963 [==============================] - 35s 76us/step - loss: 490761.0977 - mse: 490759.8438\n",
      "Epoch 90/100\n",
      "454963/454963 [==============================] - 34s 75us/step - loss: 490017.5356 - mse: 490017.8750\n",
      "Epoch 91/100\n",
      "454963/454963 [==============================] - 35s 77us/step - loss: 490080.9665 - mse: 490081.7500\n",
      "Epoch 92/100\n",
      "454963/454963 [==============================] - 35s 76us/step - loss: 488655.1913 - mse: 488655.9375\n",
      "Epoch 93/100\n",
      "454963/454963 [==============================] - 34s 76us/step - loss: 487271.8821 - mse: 487271.9062\n",
      "Epoch 94/100\n",
      "454963/454963 [==============================] - 34s 75us/step - loss: 487797.3485 - mse: 487798.2500\n",
      "Epoch 95/100\n",
      "454963/454963 [==============================] - 34s 76us/step - loss: 486987.9820 - mse: 486988.0000\n",
      "Epoch 96/100\n",
      "454963/454963 [==============================] - 35s 76us/step - loss: 485783.6191 - mse: 485784.0938\n",
      "Epoch 97/100\n",
      "454963/454963 [==============================] - 35s 77us/step - loss: 485343.5571 - mse: 485343.6250\n",
      "Epoch 98/100\n",
      "454963/454963 [==============================] - 35s 77us/step - loss: 484330.0511 - mse: 484330.6875\n",
      "Epoch 99/100\n",
      "454963/454963 [==============================] - 36s 79us/step - loss: 485346.9924 - mse: 485346.2188\n",
      "Epoch 100/100\n",
      "454963/454963 [==============================] - 35s 77us/step - loss: 485266.2155 - mse: 485267.0312\n"
     ]
    },
    {
     "data": {
      "text/plain": [
       "<keras.callbacks.callbacks.History at 0x1be78fc8308>"
      ]
     },
     "execution_count": 44,
     "metadata": {},
     "output_type": "execute_result"
    }
   ],
   "source": [
    "model.fit(Xtrain, Ytrain,  epochs=100)"
   ]
  },
  {
   "cell_type": "code",
   "execution_count": 58,
   "metadata": {},
   "outputs": [],
   "source": [
    "loss, mse = model.evaluate(xtest, ytest, verbose=2)"
   ]
  },
  {
   "cell_type": "code",
   "execution_count": 59,
   "metadata": {},
   "outputs": [
    {
     "name": "stdout",
     "output_type": "stream",
     "text": [
      "577859.3302959135 577858.4375\n"
     ]
    }
   ],
   "source": [
    "print(loss, mse)"
   ]
  },
  {
   "cell_type": "code",
   "execution_count": 61,
   "metadata": {},
   "outputs": [
    {
     "name": "stderr",
     "output_type": "stream",
     "text": [
      "No handles with labels found to put in legend.\n"
     ]
    },
    {
     "data": {
      "text/plain": [
       "<matplotlib.legend.Legend at 0x1be06a8ee08>"
      ]
     },
     "execution_count": 61,
     "metadata": {},
     "output_type": "execute_result"
    },
    {
     "data": {
      "image/png": "[encoded data removed]",
      "text/plain": [
       "<Figure size 432x288 with 1 Axes>"
      ]
     },
     "metadata": {
      "needs_background": "light"
     },
     "output_type": "display_data"
    }
   ],
   "source": [
    "y_pred = model.predict(xtest)\n",
    "plt.scatter(ytest, y_pred, c=\"g\", alpha=0.5, marker=r'$\\clubsuit$')\n",
    "plt.xlabel('Test values')\n",
    "plt.ylabel('Predicted values')\n",
    "plt.title('Test vs Predicted values')\n",
    "plt.legend()"
   ]
  },
  {
   "cell_type": "code",
   "execution_count": 46,
   "metadata": {},
   "outputs": [],
   "source": [
    "from sklearn import metrics"
   ]
  },
  {
   "cell_type": "code",
   "execution_count": 48,
   "metadata": {},
   "outputs": [],
   "source": [
    "acc = metrics.r2_score(ytest, y_pred)"
   ]
  },
  {
   "cell_type": "code",
   "execution_count": 49,
   "metadata": {},
   "outputs": [
    {
     "data": {
      "text/plain": [
       "0.9526145214181528"
      ]
     },
     "execution_count": 49,
     "metadata": {},
     "output_type": "execute_result"
    }
   ],
   "source": [
    "acc"
   ]
  },
  {
   "cell_type": "code",
   "execution_count": 50,
   "metadata": {},
   "outputs": [
    {
     "data": {
      "text/plain": [
       "577859.3309097418"
      ]
     },
     "execution_count": 50,
     "metadata": {},
     "output_type": "execute_result"
    }
   ],
   "source": [
    "metrics.mean_squared_error(ytest, y_pred)"
   ]
  },
  {
   "cell_type": "code",
   "execution_count": 56,
   "metadata": {},
   "outputs": [
    {
     "data": {
      "text/plain": [
       "0.9623042763587211"
      ]
     },
     "execution_count": 56,
     "metadata": {},
     "output_type": "execute_result"
    }
   ],
   "source": [
    "metrics.regression.explained_variance_score(ytest, y_pred)"
   ]
  },
  {
   "cell_type": "code",
   "execution_count": 62,
   "metadata": {},
   "outputs": [
    {
     "data": {
      "text/plain": [
       "Index(['Store', 'DayOfWeek', 'Sales', 'Customers', 'Open', 'Promo',\n",
       "       'SchoolHoliday', 'year', 'month', 'StoreType', 'Assortment',\n",
       "       'CompetitionDistance', 'CompetitionOpenSinceMonth',\n",
       "       'CompetitionOpenSinceYear', 'Promo2', 'Promo2SinceWeek',\n",
       "       'Promo2SinceYear', 'PromoInterval', 'StateHoliday'],\n",
       "      dtype='object')"
      ]
     },
     "execution_count": 62,
     "metadata": {},
     "output_type": "execute_result"
    }
   ],
   "source": [
    "traindata.columns"
   ]
  },
  {
   "cell_type": "code",
   "execution_count": 70,
   "metadata": {},
   "outputs": [
    {
     "data": {
      "text/plain": [
       "array([<matplotlib.axes._subplots.AxesSubplot object at 0x000001BE060ECD88>,\n",
       "       <matplotlib.axes._subplots.AxesSubplot object at 0x000001BE061C50C8>,\n",
       "       <matplotlib.axes._subplots.AxesSubplot object at 0x000001BE060ECFC8>,\n",
       "       <matplotlib.axes._subplots.AxesSubplot object at 0x000001BE0697D808>,\n",
       "       <matplotlib.axes._subplots.AxesSubplot object at 0x000001BE069F60C8>,\n",
       "       <matplotlib.axes._subplots.AxesSubplot object at 0x000001BE06A2B948>,\n",
       "       <matplotlib.axes._subplots.AxesSubplot object at 0x000001BE06AE71C8>,\n",
       "       <matplotlib.axes._subplots.AxesSubplot object at 0x000001BE06B19C08>,\n",
       "       <matplotlib.axes._subplots.AxesSubplot object at 0x000001BE06B25788>,\n",
       "       <matplotlib.axes._subplots.AxesSubplot object at 0x000001BE06B5C808>,\n",
       "       <matplotlib.axes._subplots.AxesSubplot object at 0x000001BE07BC5B88>,\n",
       "       <matplotlib.axes._subplots.AxesSubplot object at 0x000001BE07BFEAC8>],\n",
       "      dtype=object)"
      ]
     },
     "execution_count": 70,
     "metadata": {},
     "output_type": "execute_result"
    },
    {
     "data": {
      "image/png": "[encoded data removed]",
      "text/plain": [
       "<Figure size 1080x1080 with 12 Axes>"
      ]
     },
     "metadata": {
      "needs_background": "light"
     },
     "output_type": "display_data"
    }
   ],
   "source": [
    "traindata.plot(figsize= (15,15),subplots=True)"
   ]
  },
  {
   "cell_type": "code",
   "execution_count": 71,
   "metadata": {},
   "outputs": [
    {
     "data": {
      "image/png": "[encoded data removed]",
      "text/plain": [
       "<Figure size 720x720 with 2 Axes>"
      ]
     },
     "metadata": {
      "needs_background": "light"
     },
     "output_type": "display_data"
    }
   ],
   "source": [
    "import seaborn as sns\n",
    "corr = traindata.corr()\n",
    "fig, ax = plt.subplots(figsize=(10, 10))\n",
    "colormap = sns.diverging_palette(220, 10, as_cmap=True)\n",
    "sns.heatmap(corr, cmap=colormap, annot=True, fmt=\".2f\")\n",
    "plt.xticks(range(len(corr.columns)), corr.columns)\n",
    "plt.yticks(range(len(corr.columns)), corr.columns)\n",
    "plt.show()"
   ]
  },
  {
   "cell_type": "code",
   "execution_count": null,
   "metadata": {},
   "outputs": [],
   "source": []
  }
 ],
 "metadata": {
  "kernelspec": {
   "display_name": "Python 3",
   "language": "python",
   "name": "python3"
  },
  "language_info": {
   "codemirror_mode": {
    "name": "ipython",
    "version": 3
   },
   "file_extension": ".py",
   "mimetype": "text/x-python",
   "name": "python",
   "nbconvert_exporter": "python",
   "pygments_lexer": "ipython3",
   "version": "3.7.4"
  }
 },
 "nbformat": 4,
 "nbformat_minor": 2
}
